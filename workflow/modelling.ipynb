{
 "cells": [
  {
   "cell_type": "markdown",
   "metadata": {},
   "source": [
    "# Setup"
   ]
  },
  {
   "cell_type": "markdown",
   "metadata": {},
   "source": [
    "## Imports"
   ]
  },
  {
   "cell_type": "code",
   "execution_count": 52,
   "metadata": {},
   "outputs": [],
   "source": [
    "from sklearn.cluster import KMeans as KM\n",
    "from sklearn.ensemble import GradientBoostingRegressor as GBR\n",
    "from helpers import displayAsDF\n",
    "from joblib import load\n",
    "from sklearn.linear_model import Lasso, LinearRegression as LR, Ridge\n",
    "from sklearn.model_selection import GridSearchCV as GSCV, train_test_split as TTS\n",
    "from sklearn.feature_selection import SequentialFeatureSelector as SFS\n",
    "from sklearn.metrics import make_scorer, mean_squared_error as MSE\n",
    "from sklearn.svm import SVR\n",
    "from sklearn.tree import DecisionTreeRegressor as DTR\n",
    "import numpy as np\n",
    "import pandas as pd\n",
    "import matplotlib.pyplot as plt"
   ]
  },
  {
   "cell_type": "markdown",
   "metadata": {},
   "source": [
    "## Variables"
   ]
  },
  {
   "cell_type": "code",
   "execution_count": 53,
   "metadata": {},
   "outputs": [],
   "source": [
    "RANDOM_STATE = 1432\n",
    "salaries = load(\"salaries.pkl\")"
   ]
  },
  {
   "cell_type": "markdown",
   "metadata": {},
   "source": [
    "## Helpers"
   ]
  },
  {
   "cell_type": "code",
   "execution_count": 54,
   "metadata": {},
   "outputs": [],
   "source": [
    "MSEScorer = make_scorer(MSE, greater_is_better=False)\n",
    "RMSE = lambda *args, **kwargs: np.sqrt(MSE(*args, **kwargs))\n",
    "\n",
    "def sfsSupport(model, X, y, nfts):\n",
    "  sfs = SFS(model, direction=\"backward\", scoring=MSEScorer, n_features_to_select=nfts)\n",
    "  sfs.fit(X, y)\n",
    "  return sfs.support_\n",
    "\n",
    "makeMask = lambda mask: lambda X: X.loc[:, mask]\n",
    "joinCols = lambda cols: \", \".join(cols)\n",
    "\n",
    "def inspectSFS(model, X_train, X_test, y_train, y_test, tt = lambda y: y):\n",
    "  cols = []\n",
    "  rmses = []\n",
    "  length = X_train.shape[1]\n",
    "  for n in range(length//2, length):\n",
    "    # Backward feature elimination\n",
    "    sfs_support = sfsSupport(model, X_train, y_train, n)\n",
    "    X_mask = makeMask(sfs_support)\n",
    "    model.fit(X_mask(X_train), y_train)  \n",
    "    cols.append(joinCols(X_train.columns[sfs_support]))\n",
    "    rmses.append(RMSE(tt(y_test), tt(model.predict(X_mask(X_test)))))\n",
    "  \n",
    "  model.fit(X_train, y_train)\n",
    "  cols.append(joinCols(X_train.columns))\n",
    "  rmses.append(RMSE(tt(y_test), tt(model.predict(X_test))))\n",
    "  \n",
    "  return pd.DataFrame(rmses, columns=[\"RMSE\"], index=cols)\n",
    "\n",
    "# Will be needed to \"un-log\" logged predictions for presenting scores\n",
    "e = lambda y: np.e ** y"
   ]
  },
  {
   "cell_type": "markdown",
   "metadata": {},
   "source": [
    "# Modelling"
   ]
  },
  {
   "cell_type": "code",
   "execution_count": 55,
   "metadata": {},
   "outputs": [],
   "source": [
    "# salaries = pd.get_dummies(salaries)\n",
    "X = salaries.drop(columns=[\"salary_in_usd\"])\n",
    "y = salaries[\"salary_in_usd\"]\n",
    "\n",
    "tts = TTS(X, y, test_size=1/3, random_state=RANDOM_STATE)\n",
    "Xs = tts[:2]\n",
    "ys = tts[2:]\n",
    "y_logs = [y.agg(np.log) for y in ys]"
   ]
  },
  {
   "cell_type": "markdown",
   "metadata": {},
   "source": [
    "## Exploration"
   ]
  },
  {
   "cell_type": "markdown",
   "metadata": {},
   "source": [
    "### Linear Regression (LR)"
   ]
  },
  {
   "cell_type": "code",
   "execution_count": 56,
   "metadata": {},
   "outputs": [
    {
     "data": {
      "text/html": [
       "<div>\n",
       "<style scoped>\n",
       "    .dataframe tbody tr th:only-of-type {\n",
       "        vertical-align: middle;\n",
       "    }\n",
       "\n",
       "    .dataframe tbody tr th {\n",
       "        vertical-align: top;\n",
       "    }\n",
       "\n",
       "    .dataframe thead th {\n",
       "        text-align: right;\n",
       "    }\n",
       "</style>\n",
       "<table border=\"1\" class=\"dataframe\">\n",
       "  <thead>\n",
       "    <tr style=\"text-align: right;\">\n",
       "      <th></th>\n",
       "      <th>RMSE</th>\n",
       "    </tr>\n",
       "  </thead>\n",
       "  <tbody>\n",
       "    <tr>\n",
       "      <th>experience_level, company_location, ricl</th>\n",
       "      <td>42423.728905</td>\n",
       "    </tr>\n",
       "    <tr>\n",
       "      <th>experience_level, company_location, company_size, ricl</th>\n",
       "      <td>42093.422407</td>\n",
       "    </tr>\n",
       "    <tr>\n",
       "      <th>experience_level, job_title, company_location, company_size, ricl</th>\n",
       "      <td>42416.774707</td>\n",
       "    </tr>\n",
       "    <tr>\n",
       "      <th>work_year, experience_level, job_title, company_location, company_size, ricl</th>\n",
       "      <td>42224.046134</td>\n",
       "    </tr>\n",
       "    <tr>\n",
       "      <th>work_year, experience_level, job_title, remote_ratio, company_location, company_size, ricl</th>\n",
       "      <td>42096.064031</td>\n",
       "    </tr>\n",
       "  </tbody>\n",
       "</table>\n",
       "</div>"
      ],
      "text/plain": [
       "                                                            RMSE\n",
       "experience_level, company_location, ricl            42423.728905\n",
       "experience_level, company_location, company_siz...  42093.422407\n",
       "experience_level, job_title, company_location, ...  42416.774707\n",
       "work_year, experience_level, job_title, company...  42224.046134\n",
       "work_year, experience_level, job_title, remote_...  42096.064031"
      ]
     },
     "metadata": {},
     "output_type": "display_data"
    },
    {
     "data": {
      "text/html": [
       "<div>\n",
       "<style scoped>\n",
       "    .dataframe tbody tr th:only-of-type {\n",
       "        vertical-align: middle;\n",
       "    }\n",
       "\n",
       "    .dataframe tbody tr th {\n",
       "        vertical-align: top;\n",
       "    }\n",
       "\n",
       "    .dataframe thead th {\n",
       "        text-align: right;\n",
       "    }\n",
       "</style>\n",
       "<table border=\"1\" class=\"dataframe\">\n",
       "  <thead>\n",
       "    <tr style=\"text-align: right;\">\n",
       "      <th></th>\n",
       "      <th>RMSE</th>\n",
       "    </tr>\n",
       "  </thead>\n",
       "  <tbody>\n",
       "    <tr>\n",
       "      <th>experience_level, company_location, ricl</th>\n",
       "      <td>41665.682245</td>\n",
       "    </tr>\n",
       "    <tr>\n",
       "      <th>experience_level, company_location, company_size, ricl</th>\n",
       "      <td>40906.428919</td>\n",
       "    </tr>\n",
       "    <tr>\n",
       "      <th>work_year, experience_level, company_location, company_size, ricl</th>\n",
       "      <td>40873.297718</td>\n",
       "    </tr>\n",
       "    <tr>\n",
       "      <th>work_year, experience_level, job_title, company_location, company_size, ricl</th>\n",
       "      <td>40926.885415</td>\n",
       "    </tr>\n",
       "    <tr>\n",
       "      <th>work_year, experience_level, job_title, remote_ratio, company_location, company_size, ricl</th>\n",
       "      <td>40608.496594</td>\n",
       "    </tr>\n",
       "  </tbody>\n",
       "</table>\n",
       "</div>"
      ],
      "text/plain": [
       "                                                            RMSE\n",
       "experience_level, company_location, ricl            41665.682245\n",
       "experience_level, company_location, company_siz...  40906.428919\n",
       "work_year, experience_level, company_location, ...  40873.297718\n",
       "work_year, experience_level, job_title, company...  40926.885415\n",
       "work_year, experience_level, job_title, remote_...  40608.496594"
      ]
     },
     "metadata": {},
     "output_type": "display_data"
    }
   ],
   "source": [
    "lr = LR()\n",
    "display(inspectSFS(lr, *tts))\n",
    "display(inspectSFS(lr, *Xs, *y_logs, e))"
   ]
  },
  {
   "cell_type": "markdown",
   "metadata": {},
   "source": [
    "### Ridge"
   ]
  },
  {
   "cell_type": "code",
   "execution_count": 57,
   "metadata": {},
   "outputs": [
    {
     "data": {
      "text/html": [
       "<div>\n",
       "<style scoped>\n",
       "    .dataframe tbody tr th:only-of-type {\n",
       "        vertical-align: middle;\n",
       "    }\n",
       "\n",
       "    .dataframe tbody tr th {\n",
       "        vertical-align: top;\n",
       "    }\n",
       "\n",
       "    .dataframe thead th {\n",
       "        text-align: right;\n",
       "    }\n",
       "</style>\n",
       "<table border=\"1\" class=\"dataframe\">\n",
       "  <thead>\n",
       "    <tr style=\"text-align: right;\">\n",
       "      <th></th>\n",
       "      <th>RMSE</th>\n",
       "    </tr>\n",
       "  </thead>\n",
       "  <tbody>\n",
       "    <tr>\n",
       "      <th>experience_level, company_location, ricl</th>\n",
       "      <td>42500.607097</td>\n",
       "    </tr>\n",
       "    <tr>\n",
       "      <th>experience_level, company_location, company_size, ricl</th>\n",
       "      <td>42172.021777</td>\n",
       "    </tr>\n",
       "    <tr>\n",
       "      <th>experience_level, job_title, company_location, company_size, ricl</th>\n",
       "      <td>42488.701213</td>\n",
       "    </tr>\n",
       "    <tr>\n",
       "      <th>work_year, experience_level, job_title, company_location, company_size, ricl</th>\n",
       "      <td>42263.156701</td>\n",
       "    </tr>\n",
       "    <tr>\n",
       "      <th>work_year, experience_level, job_title, remote_ratio, company_location, company_size, ricl</th>\n",
       "      <td>42129.790502</td>\n",
       "    </tr>\n",
       "  </tbody>\n",
       "</table>\n",
       "</div>"
      ],
      "text/plain": [
       "                                                            RMSE\n",
       "experience_level, company_location, ricl            42500.607097\n",
       "experience_level, company_location, company_siz...  42172.021777\n",
       "experience_level, job_title, company_location, ...  42488.701213\n",
       "work_year, experience_level, job_title, company...  42263.156701\n",
       "work_year, experience_level, job_title, remote_...  42129.790502"
      ]
     },
     "metadata": {},
     "output_type": "display_data"
    },
    {
     "data": {
      "text/html": [
       "<div>\n",
       "<style scoped>\n",
       "    .dataframe tbody tr th:only-of-type {\n",
       "        vertical-align: middle;\n",
       "    }\n",
       "\n",
       "    .dataframe tbody tr th {\n",
       "        vertical-align: top;\n",
       "    }\n",
       "\n",
       "    .dataframe thead th {\n",
       "        text-align: right;\n",
       "    }\n",
       "</style>\n",
       "<table border=\"1\" class=\"dataframe\">\n",
       "  <thead>\n",
       "    <tr style=\"text-align: right;\">\n",
       "      <th></th>\n",
       "      <th>RMSE</th>\n",
       "    </tr>\n",
       "  </thead>\n",
       "  <tbody>\n",
       "    <tr>\n",
       "      <th>experience_level, company_location, ricl</th>\n",
       "      <td>41819.587857</td>\n",
       "    </tr>\n",
       "    <tr>\n",
       "      <th>experience_level, company_location, company_size, ricl</th>\n",
       "      <td>41070.367347</td>\n",
       "    </tr>\n",
       "    <tr>\n",
       "      <th>work_year, experience_level, company_location, company_size, ricl</th>\n",
       "      <td>41058.161349</td>\n",
       "    </tr>\n",
       "    <tr>\n",
       "      <th>work_year, experience_level, job_title, company_location, company_size, ricl</th>\n",
       "      <td>41105.989793</td>\n",
       "    </tr>\n",
       "    <tr>\n",
       "      <th>work_year, experience_level, job_title, remote_ratio, company_location, company_size, ricl</th>\n",
       "      <td>40788.878948</td>\n",
       "    </tr>\n",
       "  </tbody>\n",
       "</table>\n",
       "</div>"
      ],
      "text/plain": [
       "                                                            RMSE\n",
       "experience_level, company_location, ricl            41819.587857\n",
       "experience_level, company_location, company_siz...  41070.367347\n",
       "work_year, experience_level, company_location, ...  41058.161349\n",
       "work_year, experience_level, job_title, company...  41105.989793\n",
       "work_year, experience_level, job_title, remote_...  40788.878948"
      ]
     },
     "metadata": {},
     "output_type": "display_data"
    }
   ],
   "source": [
    "ridge = Ridge()\n",
    "display(inspectSFS(ridge, *tts))\n",
    "display(inspectSFS(ridge, *Xs, *y_logs, e))"
   ]
  },
  {
   "cell_type": "markdown",
   "metadata": {},
   "source": [
    "### Lasso"
   ]
  },
  {
   "cell_type": "code",
   "execution_count": 58,
   "metadata": {},
   "outputs": [
    {
     "data": {
      "text/html": [
       "<div>\n",
       "<style scoped>\n",
       "    .dataframe tbody tr th:only-of-type {\n",
       "        vertical-align: middle;\n",
       "    }\n",
       "\n",
       "    .dataframe tbody tr th {\n",
       "        vertical-align: top;\n",
       "    }\n",
       "\n",
       "    .dataframe thead th {\n",
       "        text-align: right;\n",
       "    }\n",
       "</style>\n",
       "<table border=\"1\" class=\"dataframe\">\n",
       "  <thead>\n",
       "    <tr style=\"text-align: right;\">\n",
       "      <th></th>\n",
       "      <th>RMSE</th>\n",
       "    </tr>\n",
       "  </thead>\n",
       "  <tbody>\n",
       "    <tr>\n",
       "      <th>experience_level, company_location, ricl</th>\n",
       "      <td>42424.337310</td>\n",
       "    </tr>\n",
       "    <tr>\n",
       "      <th>experience_level, company_location, company_size, ricl</th>\n",
       "      <td>42093.980762</td>\n",
       "    </tr>\n",
       "    <tr>\n",
       "      <th>experience_level, job_title, company_location, company_size, ricl</th>\n",
       "      <td>42417.049597</td>\n",
       "    </tr>\n",
       "    <tr>\n",
       "      <th>work_year, experience_level, job_title, company_location, company_size, ricl</th>\n",
       "      <td>42224.317972</td>\n",
       "    </tr>\n",
       "    <tr>\n",
       "      <th>work_year, experience_level, job_title, remote_ratio, company_location, company_size, ricl</th>\n",
       "      <td>42096.511161</td>\n",
       "    </tr>\n",
       "  </tbody>\n",
       "</table>\n",
       "</div>"
      ],
      "text/plain": [
       "                                                            RMSE\n",
       "experience_level, company_location, ricl            42424.337310\n",
       "experience_level, company_location, company_siz...  42093.980762\n",
       "experience_level, job_title, company_location, ...  42417.049597\n",
       "work_year, experience_level, job_title, company...  42224.317972\n",
       "work_year, experience_level, job_title, remote_...  42096.511161"
      ]
     },
     "metadata": {},
     "output_type": "display_data"
    },
    {
     "data": {
      "text/html": [
       "<div>\n",
       "<style scoped>\n",
       "    .dataframe tbody tr th:only-of-type {\n",
       "        vertical-align: middle;\n",
       "    }\n",
       "\n",
       "    .dataframe tbody tr th {\n",
       "        vertical-align: top;\n",
       "    }\n",
       "\n",
       "    .dataframe thead th {\n",
       "        text-align: right;\n",
       "    }\n",
       "</style>\n",
       "<table border=\"1\" class=\"dataframe\">\n",
       "  <thead>\n",
       "    <tr style=\"text-align: right;\">\n",
       "      <th></th>\n",
       "      <th>RMSE</th>\n",
       "    </tr>\n",
       "  </thead>\n",
       "  <tbody>\n",
       "    <tr>\n",
       "      <th>company_location, company_size, ricl</th>\n",
       "      <td>60907.716107</td>\n",
       "    </tr>\n",
       "    <tr>\n",
       "      <th>remote_ratio, company_location, company_size, ricl</th>\n",
       "      <td>60907.716107</td>\n",
       "    </tr>\n",
       "    <tr>\n",
       "      <th>job_title, remote_ratio, company_location, company_size, ricl</th>\n",
       "      <td>60907.716107</td>\n",
       "    </tr>\n",
       "    <tr>\n",
       "      <th>experience_level, job_title, remote_ratio, company_location, company_size, ricl</th>\n",
       "      <td>60907.716107</td>\n",
       "    </tr>\n",
       "    <tr>\n",
       "      <th>work_year, experience_level, job_title, remote_ratio, company_location, company_size, ricl</th>\n",
       "      <td>60907.716107</td>\n",
       "    </tr>\n",
       "  </tbody>\n",
       "</table>\n",
       "</div>"
      ],
      "text/plain": [
       "                                                            RMSE\n",
       "company_location, company_size, ricl                60907.716107\n",
       "remote_ratio, company_location, company_size, ricl  60907.716107\n",
       "job_title, remote_ratio, company_location, comp...  60907.716107\n",
       "experience_level, job_title, remote_ratio, comp...  60907.716107\n",
       "work_year, experience_level, job_title, remote_...  60907.716107"
      ]
     },
     "metadata": {},
     "output_type": "display_data"
    }
   ],
   "source": [
    "lasso = Lasso()\n",
    "display(inspectSFS(lasso, *tts))\n",
    "display(inspectSFS(lasso, *Xs, *y_logs, e))"
   ]
  },
  {
   "cell_type": "markdown",
   "metadata": {},
   "source": [
    "### Decision Tree Regressor (DTR)"
   ]
  },
  {
   "cell_type": "code",
   "execution_count": 59,
   "metadata": {},
   "outputs": [
    {
     "data": {
      "text/html": [
       "<div>\n",
       "<style scoped>\n",
       "    .dataframe tbody tr th:only-of-type {\n",
       "        vertical-align: middle;\n",
       "    }\n",
       "\n",
       "    .dataframe tbody tr th {\n",
       "        vertical-align: top;\n",
       "    }\n",
       "\n",
       "    .dataframe thead th {\n",
       "        text-align: right;\n",
       "    }\n",
       "</style>\n",
       "<table border=\"1\" class=\"dataframe\">\n",
       "  <thead>\n",
       "    <tr style=\"text-align: right;\">\n",
       "      <th></th>\n",
       "      <th>RMSE</th>\n",
       "    </tr>\n",
       "  </thead>\n",
       "  <tbody>\n",
       "    <tr>\n",
       "      <th>experience_level, company_location, ricl</th>\n",
       "      <td>43369.062365</td>\n",
       "    </tr>\n",
       "    <tr>\n",
       "      <th>experience_level, remote_ratio, company_location, ricl</th>\n",
       "      <td>45303.186478</td>\n",
       "    </tr>\n",
       "    <tr>\n",
       "      <th>experience_level, remote_ratio, company_location, company_size, ricl</th>\n",
       "      <td>47549.201865</td>\n",
       "    </tr>\n",
       "    <tr>\n",
       "      <th>work_year, experience_level, remote_ratio, company_location, company_size, ricl</th>\n",
       "      <td>47654.902362</td>\n",
       "    </tr>\n",
       "    <tr>\n",
       "      <th>work_year, experience_level, job_title, remote_ratio, company_location, company_size, ricl</th>\n",
       "      <td>49147.746488</td>\n",
       "    </tr>\n",
       "  </tbody>\n",
       "</table>\n",
       "</div>"
      ],
      "text/plain": [
       "                                                            RMSE\n",
       "experience_level, company_location, ricl            43369.062365\n",
       "experience_level, remote_ratio, company_locatio...  45303.186478\n",
       "experience_level, remote_ratio, company_locatio...  47549.201865\n",
       "work_year, experience_level, remote_ratio, comp...  47654.902362\n",
       "work_year, experience_level, job_title, remote_...  49147.746488"
      ]
     },
     "metadata": {},
     "output_type": "display_data"
    },
    {
     "data": {
      "text/html": [
       "<div>\n",
       "<style scoped>\n",
       "    .dataframe tbody tr th:only-of-type {\n",
       "        vertical-align: middle;\n",
       "    }\n",
       "\n",
       "    .dataframe tbody tr th {\n",
       "        vertical-align: top;\n",
       "    }\n",
       "\n",
       "    .dataframe thead th {\n",
       "        text-align: right;\n",
       "    }\n",
       "</style>\n",
       "<table border=\"1\" class=\"dataframe\">\n",
       "  <thead>\n",
       "    <tr style=\"text-align: right;\">\n",
       "      <th></th>\n",
       "      <th>RMSE</th>\n",
       "    </tr>\n",
       "  </thead>\n",
       "  <tbody>\n",
       "    <tr>\n",
       "      <th>work_year, job_title, company_location</th>\n",
       "      <td>49974.824208</td>\n",
       "    </tr>\n",
       "    <tr>\n",
       "      <th>work_year, experience_level, company_location, ricl</th>\n",
       "      <td>43288.815683</td>\n",
       "    </tr>\n",
       "    <tr>\n",
       "      <th>work_year, experience_level, remote_ratio, company_location, ricl</th>\n",
       "      <td>44698.002523</td>\n",
       "    </tr>\n",
       "    <tr>\n",
       "      <th>work_year, experience_level, job_title, remote_ratio, company_location, ricl</th>\n",
       "      <td>49131.441788</td>\n",
       "    </tr>\n",
       "    <tr>\n",
       "      <th>work_year, experience_level, job_title, remote_ratio, company_location, company_size, ricl</th>\n",
       "      <td>45087.911410</td>\n",
       "    </tr>\n",
       "  </tbody>\n",
       "</table>\n",
       "</div>"
      ],
      "text/plain": [
       "                                                            RMSE\n",
       "work_year, job_title, company_location              49974.824208\n",
       "work_year, experience_level, company_location, ...  43288.815683\n",
       "work_year, experience_level, remote_ratio, comp...  44698.002523\n",
       "work_year, experience_level, job_title, remote_...  49131.441788\n",
       "work_year, experience_level, job_title, remote_...  45087.911410"
      ]
     },
     "metadata": {},
     "output_type": "display_data"
    }
   ],
   "source": [
    "dtr = DTR()\n",
    "display(inspectSFS(dtr, *tts))\n",
    "display(inspectSFS(dtr, *Xs, *y_logs, e))"
   ]
  },
  {
   "cell_type": "markdown",
   "metadata": {},
   "source": [
    "### Gradient Boosting Regressor (GBR)"
   ]
  },
  {
   "cell_type": "code",
   "execution_count": 60,
   "metadata": {},
   "outputs": [
    {
     "data": {
      "text/html": [
       "<div>\n",
       "<style scoped>\n",
       "    .dataframe tbody tr th:only-of-type {\n",
       "        vertical-align: middle;\n",
       "    }\n",
       "\n",
       "    .dataframe tbody tr th {\n",
       "        vertical-align: top;\n",
       "    }\n",
       "\n",
       "    .dataframe thead th {\n",
       "        text-align: right;\n",
       "    }\n",
       "</style>\n",
       "<table border=\"1\" class=\"dataframe\">\n",
       "  <thead>\n",
       "    <tr style=\"text-align: right;\">\n",
       "      <th></th>\n",
       "      <th>RMSE</th>\n",
       "    </tr>\n",
       "  </thead>\n",
       "  <tbody>\n",
       "    <tr>\n",
       "      <th>experience_level, job_title, company_location</th>\n",
       "      <td>45159.302209</td>\n",
       "    </tr>\n",
       "    <tr>\n",
       "      <th>experience_level, job_title, company_location, ricl</th>\n",
       "      <td>42175.258574</td>\n",
       "    </tr>\n",
       "    <tr>\n",
       "      <th>experience_level, job_title, company_location, company_size, ricl</th>\n",
       "      <td>40092.494243</td>\n",
       "    </tr>\n",
       "    <tr>\n",
       "      <th>work_year, experience_level, job_title, company_location, company_size, ricl</th>\n",
       "      <td>40275.564490</td>\n",
       "    </tr>\n",
       "    <tr>\n",
       "      <th>work_year, experience_level, job_title, remote_ratio, company_location, company_size, ricl</th>\n",
       "      <td>40052.789192</td>\n",
       "    </tr>\n",
       "  </tbody>\n",
       "</table>\n",
       "</div>"
      ],
      "text/plain": [
       "                                                            RMSE\n",
       "experience_level, job_title, company_location       45159.302209\n",
       "experience_level, job_title, company_location, ...  42175.258574\n",
       "experience_level, job_title, company_location, ...  40092.494243\n",
       "work_year, experience_level, job_title, company...  40275.564490\n",
       "work_year, experience_level, job_title, remote_...  40052.789192"
      ]
     },
     "metadata": {},
     "output_type": "display_data"
    },
    {
     "data": {
      "text/html": [
       "<div>\n",
       "<style scoped>\n",
       "    .dataframe tbody tr th:only-of-type {\n",
       "        vertical-align: middle;\n",
       "    }\n",
       "\n",
       "    .dataframe tbody tr th {\n",
       "        vertical-align: top;\n",
       "    }\n",
       "\n",
       "    .dataframe thead th {\n",
       "        text-align: right;\n",
       "    }\n",
       "</style>\n",
       "<table border=\"1\" class=\"dataframe\">\n",
       "  <thead>\n",
       "    <tr style=\"text-align: right;\">\n",
       "      <th></th>\n",
       "      <th>RMSE</th>\n",
       "    </tr>\n",
       "  </thead>\n",
       "  <tbody>\n",
       "    <tr>\n",
       "      <th>experience_level, job_title, company_location</th>\n",
       "      <td>45003.020954</td>\n",
       "    </tr>\n",
       "    <tr>\n",
       "      <th>experience_level, job_title, company_location, ricl</th>\n",
       "      <td>42019.119062</td>\n",
       "    </tr>\n",
       "    <tr>\n",
       "      <th>work_year, experience_level, job_title, company_location, ricl</th>\n",
       "      <td>42324.137049</td>\n",
       "    </tr>\n",
       "    <tr>\n",
       "      <th>work_year, experience_level, job_title, company_location, company_size, ricl</th>\n",
       "      <td>41162.605303</td>\n",
       "    </tr>\n",
       "    <tr>\n",
       "      <th>work_year, experience_level, job_title, remote_ratio, company_location, company_size, ricl</th>\n",
       "      <td>40937.210887</td>\n",
       "    </tr>\n",
       "  </tbody>\n",
       "</table>\n",
       "</div>"
      ],
      "text/plain": [
       "                                                            RMSE\n",
       "experience_level, job_title, company_location       45003.020954\n",
       "experience_level, job_title, company_location, ...  42019.119062\n",
       "work_year, experience_level, job_title, company...  42324.137049\n",
       "work_year, experience_level, job_title, company...  41162.605303\n",
       "work_year, experience_level, job_title, remote_...  40937.210887"
      ]
     },
     "metadata": {},
     "output_type": "display_data"
    }
   ],
   "source": [
    "gbr = GBR(random_state=RANDOM_STATE)\n",
    "display(inspectSFS(gbr, *tts))\n",
    "display(inspectSFS(gbr, *Xs, *y_logs, e))"
   ]
  },
  {
   "cell_type": "markdown",
   "metadata": {},
   "source": [
    "### Support Vector Regression (SVR)"
   ]
  },
  {
   "cell_type": "code",
   "execution_count": 61,
   "metadata": {},
   "outputs": [
    {
     "data": {
      "text/html": [
       "<div>\n",
       "<style scoped>\n",
       "    .dataframe tbody tr th:only-of-type {\n",
       "        vertical-align: middle;\n",
       "    }\n",
       "\n",
       "    .dataframe tbody tr th {\n",
       "        vertical-align: top;\n",
       "    }\n",
       "\n",
       "    .dataframe thead th {\n",
       "        text-align: right;\n",
       "    }\n",
       "</style>\n",
       "<table border=\"1\" class=\"dataframe\">\n",
       "  <thead>\n",
       "    <tr style=\"text-align: right;\">\n",
       "      <th></th>\n",
       "      <th>RMSE</th>\n",
       "    </tr>\n",
       "  </thead>\n",
       "  <tbody>\n",
       "    <tr>\n",
       "      <th>experience_level, company_location, ricl</th>\n",
       "      <td>58362.998955</td>\n",
       "    </tr>\n",
       "    <tr>\n",
       "      <th>experience_level, company_location, company_size, ricl</th>\n",
       "      <td>58372.116942</td>\n",
       "    </tr>\n",
       "    <tr>\n",
       "      <th>experience_level, remote_ratio, company_location, company_size, ricl</th>\n",
       "      <td>58379.044224</td>\n",
       "    </tr>\n",
       "    <tr>\n",
       "      <th>experience_level, job_title, remote_ratio, company_location, company_size, ricl</th>\n",
       "      <td>58384.652798</td>\n",
       "    </tr>\n",
       "    <tr>\n",
       "      <th>work_year, experience_level, job_title, remote_ratio, company_location, company_size, ricl</th>\n",
       "      <td>58402.624842</td>\n",
       "    </tr>\n",
       "  </tbody>\n",
       "</table>\n",
       "</div>"
      ],
      "text/plain": [
       "                                                            RMSE\n",
       "experience_level, company_location, ricl            58362.998955\n",
       "experience_level, company_location, company_siz...  58372.116942\n",
       "experience_level, remote_ratio, company_locatio...  58379.044224\n",
       "experience_level, job_title, remote_ratio, comp...  58384.652798\n",
       "work_year, experience_level, job_title, remote_...  58402.624842"
      ]
     },
     "metadata": {},
     "output_type": "display_data"
    },
    {
     "data": {
      "text/html": [
       "<div>\n",
       "<style scoped>\n",
       "    .dataframe tbody tr th:only-of-type {\n",
       "        vertical-align: middle;\n",
       "    }\n",
       "\n",
       "    .dataframe tbody tr th {\n",
       "        vertical-align: top;\n",
       "    }\n",
       "\n",
       "    .dataframe thead th {\n",
       "        text-align: right;\n",
       "    }\n",
       "</style>\n",
       "<table border=\"1\" class=\"dataframe\">\n",
       "  <thead>\n",
       "    <tr style=\"text-align: right;\">\n",
       "      <th></th>\n",
       "      <th>RMSE</th>\n",
       "    </tr>\n",
       "  </thead>\n",
       "  <tbody>\n",
       "    <tr>\n",
       "      <th>experience_level, job_title, company_location</th>\n",
       "      <td>44906.015061</td>\n",
       "    </tr>\n",
       "    <tr>\n",
       "      <th>experience_level, job_title, company_location, company_size</th>\n",
       "      <td>41951.907254</td>\n",
       "    </tr>\n",
       "    <tr>\n",
       "      <th>experience_level, job_title, company_location, company_size, ricl</th>\n",
       "      <td>40467.630102</td>\n",
       "    </tr>\n",
       "    <tr>\n",
       "      <th>experience_level, job_title, remote_ratio, company_location, company_size, ricl</th>\n",
       "      <td>40292.601548</td>\n",
       "    </tr>\n",
       "    <tr>\n",
       "      <th>work_year, experience_level, job_title, remote_ratio, company_location, company_size, ricl</th>\n",
       "      <td>58367.291076</td>\n",
       "    </tr>\n",
       "  </tbody>\n",
       "</table>\n",
       "</div>"
      ],
      "text/plain": [
       "                                                            RMSE\n",
       "experience_level, job_title, company_location       44906.015061\n",
       "experience_level, job_title, company_location, ...  41951.907254\n",
       "experience_level, job_title, company_location, ...  40467.630102\n",
       "experience_level, job_title, remote_ratio, comp...  40292.601548\n",
       "work_year, experience_level, job_title, remote_...  58367.291076"
      ]
     },
     "metadata": {},
     "output_type": "display_data"
    }
   ],
   "source": [
    "svr = SVR()\n",
    "display(inspectSFS(svr, *tts))\n",
    "display(inspectSFS(svr, *Xs, *y_logs, e))"
   ]
  },
  {
   "cell_type": "markdown",
   "metadata": {},
   "source": [
    "## Shortlisting\n",
    "\n",
    "The models that perform best are:\n",
    "\n",
    "| No. | Model     | Features       | y logged | RMSE  |\n",
    "| --- | --------- | -------------- | -------- | ----- |\n",
    "| 1   | **GBR**   | All            | No       | 40053 |\n",
    "| 2   | **SVR**   | No `work_year` | Yes      | 40293 |\n",
    "| 3   | **LR**    | All            | Yes      | 40608 |\n",
    "| 4   | **GBR**   | All            | Yes      | 40653 |\n",
    "| 5   | **Ridge** | All            | Yes      | 40789 |\n",
    "\n",
    "**LR** has no parameters that can be optimized further, but **GBR**, **SVR** & **Ridge** have potential for error reduction"
   ]
  },
  {
   "cell_type": "markdown",
   "metadata": {},
   "source": [
    "## Hyperparameter Tuning"
   ]
  },
  {
   "cell_type": "markdown",
   "metadata": {},
   "source": [
    "### GBR"
   ]
  },
  {
   "cell_type": "code",
   "execution_count": 62,
   "metadata": {},
   "outputs": [
    {
     "data": {
      "text/plain": [
       "{'learning_rate': 0.1, 'max_depth': 3, 'n_estimators': 60, 'tol': 0.1}"
      ]
     },
     "execution_count": 62,
     "metadata": {},
     "output_type": "execute_result"
    }
   ],
   "source": [
    "gbr_pg = {\n",
    "  \"learning_rate\": [.1, .01, .001, .0001],\n",
    "  \"n_estimators\": np.arange(60, 120, 20),\n",
    "  \"max_depth\": np.arange(3, 8, 1),\n",
    "  \"tol\": [.1, .01, .001, .0001]\n",
    "}\n",
    "gbr_gscv = GSCV(gbr, gbr_pg, scoring=MSEScorer)\n",
    "gbr_gscv.fit(Xs[0], tts[2])\n",
    "\n",
    "gbr_gscv.best_params_"
   ]
  },
  {
   "cell_type": "code",
   "execution_count": 63,
   "metadata": {},
   "outputs": [
    {
     "data": {
      "text/plain": [
       "40004.555140726574"
      ]
     },
     "execution_count": 63,
     "metadata": {},
     "output_type": "execute_result"
    }
   ],
   "source": [
    "gbr_tuned = GBR(**gbr_gscv.best_params_)\n",
    "gbr_tuned.fit(Xs[0], tts[2])\n",
    "RMSE(tts[3], gbr_tuned.predict(Xs[1]))"
   ]
  },
  {
   "cell_type": "markdown",
   "metadata": {},
   "source": [
    "### Ridge"
   ]
  },
  {
   "cell_type": "code",
   "execution_count": 64,
   "metadata": {},
   "outputs": [
    {
     "data": {
      "text/plain": [
       "{'alpha': 1.1900000000000002, 'tol': 0.0}"
      ]
     },
     "execution_count": 64,
     "metadata": {},
     "output_type": "execute_result"
    }
   ],
   "source": [
    "ridge_pg = {\n",
    "  \"alpha\": np.arange(1, 1.2, .01),\n",
    "  \"tol\": np.arange(0, 1, .1)\n",
    "}\n",
    "ridge_gscv = GSCV(ridge, ridge_pg, scoring=MSEScorer)\n",
    "ridge_gscv.fit(Xs[0], y_logs[0])\n",
    "\n",
    "ridge_gscv.best_params_"
   ]
  },
  {
   "cell_type": "code",
   "execution_count": 65,
   "metadata": {},
   "outputs": [
    {
     "data": {
      "text/plain": [
       "40824.70364430844"
      ]
     },
     "execution_count": 65,
     "metadata": {},
     "output_type": "execute_result"
    }
   ],
   "source": [
    "ridge_tuned = Ridge(**ridge_gscv.best_params_)\n",
    "ridge_tuned.fit(Xs[0], y_logs[0])\n",
    "RMSE(tts[3], e(ridge_tuned.predict(Xs[1])))"
   ]
  },
  {
   "cell_type": "markdown",
   "metadata": {},
   "source": [
    "### SVR"
   ]
  },
  {
   "cell_type": "code",
   "execution_count": 66,
   "metadata": {},
   "outputs": [
    {
     "data": {
      "text/plain": [
       "{'C': 0.7500000000000001,\n",
       " 'epsilon': 0.2,\n",
       " 'gamma': 'scale',\n",
       " 'tol': 0.14500000000000002}"
      ]
     },
     "execution_count": 66,
     "metadata": {},
     "output_type": "execute_result"
    }
   ],
   "source": [
    "svr_pg = {\n",
    "  \"gamma\": [\"scale\", \"auto\"],\n",
    "  \"tol\": np.arange(.12, .15, .005),\n",
    "  \"C\": np.arange(.6, .9, .05),\n",
    "  \"epsilon\": np.arange(.1, .5, .1)\n",
    "}\n",
    "svr_Xs = [X.drop(columns=\"work_year\") for X in Xs]\n",
    "svr_gscv = GSCV(svr, svr_pg, scoring=MSEScorer)\n",
    "svr_gscv.fit(svr_Xs[0], y_logs[0])\n",
    "\n",
    "svr_gscv.best_params_"
   ]
  },
  {
   "cell_type": "code",
   "execution_count": 67,
   "metadata": {},
   "outputs": [
    {
     "data": {
      "text/plain": [
       "39685.803079430574"
      ]
     },
     "execution_count": 67,
     "metadata": {},
     "output_type": "execute_result"
    }
   ],
   "source": [
    "svr_tuned = SVR(**svr_gscv.best_params_)\n",
    "svr_tuned.fit(svr_Xs[0], y_logs[0])\n",
    "RMSE(tts[3], e(svr_tuned.predict(svr_Xs[1])))"
   ]
  },
  {
   "cell_type": "markdown",
   "metadata": {},
   "source": [
    "## The best performing model is:\n",
    "\n",
    "**SVR** w/\n",
    "- Features: No `work_year`\n",
    "- y logged\n",
    "- Params:\n",
    "{\n",
    " 'C': 0.75,\n",
    " 'epsilon': 0.2,\n",
    " 'gamma': 'scale',\n",
    " 'tol': 0.145\n",
    "}\n",
    "- *RMSE: 39686*"
   ]
  },
  {
   "cell_type": "markdown",
   "metadata": {},
   "source": [
    "# Exports"
   ]
  },
  {
   "cell_type": "code",
   "execution_count": 68,
   "metadata": {},
   "outputs": [],
   "source": [
    "from joblib import dump"
   ]
  },
  {
   "cell_type": "code",
   "execution_count": 69,
   "metadata": {},
   "outputs": [
    {
     "data": {
      "text/plain": [
       "['../model.pkl']"
      ]
     },
     "execution_count": 69,
     "metadata": {},
     "output_type": "execute_result"
    }
   ],
   "source": [
    "dump(svr_tuned, \"../model.pkl\")"
   ]
  }
 ],
 "metadata": {
  "kernelspec": {
   "display_name": "Python 3.9.12 ('ai')",
   "language": "python",
   "name": "python3"
  },
  "language_info": {
   "codemirror_mode": {
    "name": "ipython",
    "version": 3
   },
   "file_extension": ".py",
   "mimetype": "text/x-python",
   "name": "python",
   "nbconvert_exporter": "python",
   "pygments_lexer": "ipython3",
   "version": "3.9.12"
  },
  "orig_nbformat": 4,
  "vscode": {
   "interpreter": {
    "hash": "cc4b3de7b0b7ce6b1c2c518757e9e54c8dd73823412aeeed09e6b284ef831903"
   }
  }
 },
 "nbformat": 4,
 "nbformat_minor": 2
}
