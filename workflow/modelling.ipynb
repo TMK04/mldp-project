{
 "cells": [
  {
   "cell_type": "markdown",
   "metadata": {},
   "source": [
    "# Setup"
   ]
  },
  {
   "cell_type": "markdown",
   "metadata": {},
   "source": [
    "## Imports"
   ]
  },
  {
   "cell_type": "code",
   "execution_count": 19,
   "metadata": {},
   "outputs": [],
   "source": [
    "from sklearn.ensemble import GradientBoostingRegressor as GBR\n",
    "from helpers import displayAsDF, e, y_col\n",
    "from sklearn.linear_model import Lasso, LinearRegression as LR, Ridge\n",
    "from sklearn.model_selection import GridSearchCV as GSCV, train_test_split as TTS\n",
    "from sklearn.feature_selection import SequentialFeatureSelector as SFS\n",
    "from sklearn.metrics import make_scorer, mean_squared_error as MSE\n",
    "from sklearn.svm import SVR\n",
    "from sklearn.tree import DecisionTreeRegressor as DTR\n",
    "import numpy as np\n",
    "import pandas as pd\n",
    "import matplotlib.pyplot as plt"
   ]
  },
  {
   "cell_type": "markdown",
   "metadata": {},
   "source": [
    "## Variables"
   ]
  },
  {
   "cell_type": "code",
   "execution_count": 20,
   "metadata": {},
   "outputs": [],
   "source": [
    "RANDOM_STATE = 1432\n",
    "salaries = pd.read_csv(\"salaries_processed.csv\", index_col=0)"
   ]
  },
  {
   "cell_type": "markdown",
   "metadata": {},
   "source": [
    "## Helpers"
   ]
  },
  {
   "cell_type": "code",
   "execution_count": 21,
   "metadata": {},
   "outputs": [],
   "source": [
    "MSEScorer = make_scorer(MSE, greater_is_better=False)\n",
    "RMSE = lambda *args, **kwargs: np.sqrt(MSE(*args, **kwargs))\n",
    "\n",
    "def sfsSupport(model, X, y, nfts):\n",
    "  sfs = SFS(model, direction=\"backward\", scoring=MSEScorer, n_features_to_select=nfts)\n",
    "  sfs.fit(X, y)\n",
    "  return sfs.support_\n",
    "\n",
    "makeMask = lambda mask: lambda X: X.loc[:, mask]\n",
    "joinCols = lambda cols: \", \".join(cols)\n",
    "\n",
    "def inspectSFS(model, X_train, X_test, y_train, y_test, tt = lambda y: y):\n",
    "  cols = []\n",
    "  rmses = []\n",
    "  for n in range(X_train.shape[1]//2, X_train.shape[1]):\n",
    "    # Backward feature elimination\n",
    "    sfs_support = sfsSupport(model, X_train, y_train, n)\n",
    "    X_mask = makeMask(sfs_support)\n",
    "    model.fit(X_mask(X_train), y_train)\n",
    "    cols.append(joinCols(X_train.columns[sfs_support]))\n",
    "    rmses.append(RMSE(tt(y_test), tt(model.predict(X_mask(X_test)))))\n",
    "  \n",
    "  model.fit(X_train, y_train)\n",
    "  cols.append(joinCols(X_train.columns))\n",
    "  rmses.append(RMSE(tt(y_test), tt(model.predict(X_test))))\n",
    "  \n",
    "  displayAsDF(rmses, columns=[\"RMSE\"], index=cols)"
   ]
  },
  {
   "cell_type": "markdown",
   "metadata": {},
   "source": [
    "# Modelling"
   ]
  },
  {
   "cell_type": "markdown",
   "metadata": {},
   "source": [
    "## Preparation"
   ]
  },
  {
   "cell_type": "code",
   "execution_count": 22,
   "metadata": {},
   "outputs": [],
   "source": [
    "X = salaries.drop(columns=y_col)\n",
    "y = salaries[y_col]\n",
    "\n",
    "tts = TTS(X, y, test_size=1/3, random_state=RANDOM_STATE)\n",
    "Xs = tts[:2]\n",
    "ys = tts[2:]"
   ]
  },
  {
   "cell_type": "markdown",
   "metadata": {},
   "source": [
    "### Log y (`salary_in_usd`)\n",
    "\n",
    "The distribution of y is skewed, whether logged or not, so both original and logged ys can be compared based on results then."
   ]
  },
  {
   "cell_type": "code",
   "execution_count": 23,
   "metadata": {},
   "outputs": [
    {
     "data": {
      "image/png": "[encoded data removed]",
      "text/plain": [
       "<Figure size 432x288 with 1 Axes>"
      ]
     },
     "metadata": {
      "needs_background": "light"
     },
     "output_type": "display_data"
    },
    {
     "data": {
      "image/png": "[encoded data removed]",
      "text/plain": [
       "<Figure size 432x288 with 1 Axes>"
      ]
     },
     "metadata": {
      "needs_background": "light"
     },
     "output_type": "display_data"
    }
   ],
   "source": [
    "[y.hist() for y in ys]\n",
    "plt.title(\"Original\")\n",
    "plt.show()\n",
    "\n",
    "y_logs = [y.agg(np.log) for y in ys]\n",
    "[y.hist() for y in y_logs]\n",
    "plt.title(\"Logged\")\n",
    "plt.show()"
   ]
  },
  {
   "cell_type": "code",
   "execution_count": 24,
   "metadata": {},
   "outputs": [],
   "source": [
    "def compareSFS(model):\n",
    "  print(\"y\")\n",
    "  inspectSFS(model, *Xs, *ys)\n",
    "  print(\"y logged\")\n",
    "  inspectSFS(model, *Xs, *y_logs, e)"
   ]
  },
  {
   "cell_type": "markdown",
   "metadata": {},
   "source": [
    "## Exploration"
   ]
  },
  {
   "cell_type": "markdown",
   "metadata": {},
   "source": [
    "### Linear Regression (LR)"
   ]
  },
  {
   "cell_type": "code",
   "execution_count": 25,
   "metadata": {},
   "outputs": [
    {
     "name": "stdout",
     "output_type": "stream",
     "text": [
      "y\n"
     ]
    },
    {
     "data": {
      "text/html": [
       "<div>\n",
       "<style scoped>\n",
       "    .dataframe tbody tr th:only-of-type {\n",
       "        vertical-align: middle;\n",
       "    }\n",
       "\n",
       "    .dataframe tbody tr th {\n",
       "        vertical-align: top;\n",
       "    }\n",
       "\n",
       "    .dataframe thead th {\n",
       "        text-align: right;\n",
       "    }\n",
       "</style>\n",
       "<table border=\"1\" class=\"dataframe\">\n",
       "  <thead>\n",
       "    <tr style=\"text-align: right;\">\n",
       "      <th></th>\n",
       "      <th>RMSE</th>\n",
       "    </tr>\n",
       "  </thead>\n",
       "  <tbody>\n",
       "    <tr>\n",
       "      <th>experience_level, ricl, company_location</th>\n",
       "      <td>42423.728905</td>\n",
       "    </tr>\n",
       "    <tr>\n",
       "      <th>experience_level, ricl, company_location, company_size</th>\n",
       "      <td>42093.422407</td>\n",
       "    </tr>\n",
       "    <tr>\n",
       "      <th>experience_level, job_popularity, ricl, company_location, company_size</th>\n",
       "      <td>42416.774707</td>\n",
       "    </tr>\n",
       "    <tr>\n",
       "      <th>work_year, experience_level, job_popularity, ricl, company_location, company_size</th>\n",
       "      <td>42224.046134</td>\n",
       "    </tr>\n",
       "    <tr>\n",
       "      <th>work_year, experience_level, job_popularity, ricl, remote_ratio, company_location, company_size</th>\n",
       "      <td>42096.064031</td>\n",
       "    </tr>\n",
       "  </tbody>\n",
       "</table>\n",
       "</div>"
      ],
      "text/plain": [
       "                                                            RMSE\n",
       "experience_level, ricl, company_location            42423.728905\n",
       "experience_level, ricl, company_location, compa...  42093.422407\n",
       "experience_level, job_popularity, ricl, company...  42416.774707\n",
       "work_year, experience_level, job_popularity, ri...  42224.046134\n",
       "work_year, experience_level, job_popularity, ri...  42096.064031"
      ]
     },
     "metadata": {},
     "output_type": "display_data"
    },
    {
     "name": "stdout",
     "output_type": "stream",
     "text": [
      "y logged\n"
     ]
    },
    {
     "data": {
      "text/html": [
       "<div>\n",
       "<style scoped>\n",
       "    .dataframe tbody tr th:only-of-type {\n",
       "        vertical-align: middle;\n",
       "    }\n",
       "\n",
       "    .dataframe tbody tr th {\n",
       "        vertical-align: top;\n",
       "    }\n",
       "\n",
       "    .dataframe thead th {\n",
       "        text-align: right;\n",
       "    }\n",
       "</style>\n",
       "<table border=\"1\" class=\"dataframe\">\n",
       "  <thead>\n",
       "    <tr style=\"text-align: right;\">\n",
       "      <th></th>\n",
       "      <th>RMSE</th>\n",
       "    </tr>\n",
       "  </thead>\n",
       "  <tbody>\n",
       "    <tr>\n",
       "      <th>experience_level, ricl, company_location</th>\n",
       "      <td>41665.682245</td>\n",
       "    </tr>\n",
       "    <tr>\n",
       "      <th>experience_level, ricl, company_location, company_size</th>\n",
       "      <td>40906.428919</td>\n",
       "    </tr>\n",
       "    <tr>\n",
       "      <th>work_year, experience_level, ricl, company_location, company_size</th>\n",
       "      <td>40873.297718</td>\n",
       "    </tr>\n",
       "    <tr>\n",
       "      <th>work_year, experience_level, job_popularity, ricl, company_location, company_size</th>\n",
       "      <td>40926.885415</td>\n",
       "    </tr>\n",
       "    <tr>\n",
       "      <th>work_year, experience_level, job_popularity, ricl, remote_ratio, company_location, company_size</th>\n",
       "      <td>40608.496594</td>\n",
       "    </tr>\n",
       "  </tbody>\n",
       "</table>\n",
       "</div>"
      ],
      "text/plain": [
       "                                                            RMSE\n",
       "experience_level, ricl, company_location            41665.682245\n",
       "experience_level, ricl, company_location, compa...  40906.428919\n",
       "work_year, experience_level, ricl, company_loca...  40873.297718\n",
       "work_year, experience_level, job_popularity, ri...  40926.885415\n",
       "work_year, experience_level, job_popularity, ri...  40608.496594"
      ]
     },
     "metadata": {},
     "output_type": "display_data"
    }
   ],
   "source": [
    "lr = LR()\n",
    "compareSFS(lr)"
   ]
  },
  {
   "cell_type": "markdown",
   "metadata": {},
   "source": [
    "### Ridge"
   ]
  },
  {
   "cell_type": "code",
   "execution_count": 26,
   "metadata": {},
   "outputs": [
    {
     "name": "stdout",
     "output_type": "stream",
     "text": [
      "y\n"
     ]
    },
    {
     "data": {
      "text/html": [
       "<div>\n",
       "<style scoped>\n",
       "    .dataframe tbody tr th:only-of-type {\n",
       "        vertical-align: middle;\n",
       "    }\n",
       "\n",
       "    .dataframe tbody tr th {\n",
       "        vertical-align: top;\n",
       "    }\n",
       "\n",
       "    .dataframe thead th {\n",
       "        text-align: right;\n",
       "    }\n",
       "</style>\n",
       "<table border=\"1\" class=\"dataframe\">\n",
       "  <thead>\n",
       "    <tr style=\"text-align: right;\">\n",
       "      <th></th>\n",
       "      <th>RMSE</th>\n",
       "    </tr>\n",
       "  </thead>\n",
       "  <tbody>\n",
       "    <tr>\n",
       "      <th>experience_level, ricl, company_location</th>\n",
       "      <td>42500.607097</td>\n",
       "    </tr>\n",
       "    <tr>\n",
       "      <th>experience_level, ricl, company_location, company_size</th>\n",
       "      <td>42172.021777</td>\n",
       "    </tr>\n",
       "    <tr>\n",
       "      <th>experience_level, job_popularity, ricl, company_location, company_size</th>\n",
       "      <td>42488.701213</td>\n",
       "    </tr>\n",
       "    <tr>\n",
       "      <th>work_year, experience_level, job_popularity, ricl, company_location, company_size</th>\n",
       "      <td>42263.156701</td>\n",
       "    </tr>\n",
       "    <tr>\n",
       "      <th>work_year, experience_level, job_popularity, ricl, remote_ratio, company_location, company_size</th>\n",
       "      <td>42129.790502</td>\n",
       "    </tr>\n",
       "  </tbody>\n",
       "</table>\n",
       "</div>"
      ],
      "text/plain": [
       "                                                            RMSE\n",
       "experience_level, ricl, company_location            42500.607097\n",
       "experience_level, ricl, company_location, compa...  42172.021777\n",
       "experience_level, job_popularity, ricl, company...  42488.701213\n",
       "work_year, experience_level, job_popularity, ri...  42263.156701\n",
       "work_year, experience_level, job_popularity, ri...  42129.790502"
      ]
     },
     "metadata": {},
     "output_type": "display_data"
    },
    {
     "name": "stdout",
     "output_type": "stream",
     "text": [
      "y logged\n"
     ]
    },
    {
     "data": {
      "text/html": [
       "<div>\n",
       "<style scoped>\n",
       "    .dataframe tbody tr th:only-of-type {\n",
       "        vertical-align: middle;\n",
       "    }\n",
       "\n",
       "    .dataframe tbody tr th {\n",
       "        vertical-align: top;\n",
       "    }\n",
       "\n",
       "    .dataframe thead th {\n",
       "        text-align: right;\n",
       "    }\n",
       "</style>\n",
       "<table border=\"1\" class=\"dataframe\">\n",
       "  <thead>\n",
       "    <tr style=\"text-align: right;\">\n",
       "      <th></th>\n",
       "      <th>RMSE</th>\n",
       "    </tr>\n",
       "  </thead>\n",
       "  <tbody>\n",
       "    <tr>\n",
       "      <th>experience_level, ricl, company_location</th>\n",
       "      <td>41819.587857</td>\n",
       "    </tr>\n",
       "    <tr>\n",
       "      <th>experience_level, ricl, company_location, company_size</th>\n",
       "      <td>41070.367347</td>\n",
       "    </tr>\n",
       "    <tr>\n",
       "      <th>work_year, experience_level, ricl, company_location, company_size</th>\n",
       "      <td>41058.161349</td>\n",
       "    </tr>\n",
       "    <tr>\n",
       "      <th>work_year, experience_level, job_popularity, ricl, company_location, company_size</th>\n",
       "      <td>41105.989793</td>\n",
       "    </tr>\n",
       "    <tr>\n",
       "      <th>work_year, experience_level, job_popularity, ricl, remote_ratio, company_location, company_size</th>\n",
       "      <td>40788.878948</td>\n",
       "    </tr>\n",
       "  </tbody>\n",
       "</table>\n",
       "</div>"
      ],
      "text/plain": [
       "                                                            RMSE\n",
       "experience_level, ricl, company_location            41819.587857\n",
       "experience_level, ricl, company_location, compa...  41070.367347\n",
       "work_year, experience_level, ricl, company_loca...  41058.161349\n",
       "work_year, experience_level, job_popularity, ri...  41105.989793\n",
       "work_year, experience_level, job_popularity, ri...  40788.878948"
      ]
     },
     "metadata": {},
     "output_type": "display_data"
    }
   ],
   "source": [
    "ridge = Ridge()\n",
    "compareSFS(ridge)"
   ]
  },
  {
   "cell_type": "markdown",
   "metadata": {},
   "source": [
    "### Lasso"
   ]
  },
  {
   "cell_type": "code",
   "execution_count": 27,
   "metadata": {},
   "outputs": [
    {
     "name": "stdout",
     "output_type": "stream",
     "text": [
      "y\n"
     ]
    },
    {
     "data": {
      "text/html": [
       "<div>\n",
       "<style scoped>\n",
       "    .dataframe tbody tr th:only-of-type {\n",
       "        vertical-align: middle;\n",
       "    }\n",
       "\n",
       "    .dataframe tbody tr th {\n",
       "        vertical-align: top;\n",
       "    }\n",
       "\n",
       "    .dataframe thead th {\n",
       "        text-align: right;\n",
       "    }\n",
       "</style>\n",
       "<table border=\"1\" class=\"dataframe\">\n",
       "  <thead>\n",
       "    <tr style=\"text-align: right;\">\n",
       "      <th></th>\n",
       "      <th>RMSE</th>\n",
       "    </tr>\n",
       "  </thead>\n",
       "  <tbody>\n",
       "    <tr>\n",
       "      <th>experience_level, ricl, company_location</th>\n",
       "      <td>42424.336562</td>\n",
       "    </tr>\n",
       "    <tr>\n",
       "      <th>experience_level, ricl, company_location, company_size</th>\n",
       "      <td>42093.978393</td>\n",
       "    </tr>\n",
       "    <tr>\n",
       "      <th>experience_level, job_popularity, ricl, company_location, company_size</th>\n",
       "      <td>42417.049506</td>\n",
       "    </tr>\n",
       "    <tr>\n",
       "      <th>work_year, experience_level, job_popularity, ricl, company_location, company_size</th>\n",
       "      <td>42224.315501</td>\n",
       "    </tr>\n",
       "    <tr>\n",
       "      <th>work_year, experience_level, job_popularity, ricl, remote_ratio, company_location, company_size</th>\n",
       "      <td>42096.505482</td>\n",
       "    </tr>\n",
       "  </tbody>\n",
       "</table>\n",
       "</div>"
      ],
      "text/plain": [
       "                                                            RMSE\n",
       "experience_level, ricl, company_location            42424.336562\n",
       "experience_level, ricl, company_location, compa...  42093.978393\n",
       "experience_level, job_popularity, ricl, company...  42417.049506\n",
       "work_year, experience_level, job_popularity, ri...  42224.315501\n",
       "work_year, experience_level, job_popularity, ri...  42096.505482"
      ]
     },
     "metadata": {},
     "output_type": "display_data"
    },
    {
     "name": "stdout",
     "output_type": "stream",
     "text": [
      "y logged\n"
     ]
    },
    {
     "data": {
      "text/html": [
       "<div>\n",
       "<style scoped>\n",
       "    .dataframe tbody tr th:only-of-type {\n",
       "        vertical-align: middle;\n",
       "    }\n",
       "\n",
       "    .dataframe tbody tr th {\n",
       "        vertical-align: top;\n",
       "    }\n",
       "\n",
       "    .dataframe thead th {\n",
       "        text-align: right;\n",
       "    }\n",
       "</style>\n",
       "<table border=\"1\" class=\"dataframe\">\n",
       "  <thead>\n",
       "    <tr style=\"text-align: right;\">\n",
       "      <th></th>\n",
       "      <th>RMSE</th>\n",
       "    </tr>\n",
       "  </thead>\n",
       "  <tbody>\n",
       "    <tr>\n",
       "      <th>remote_ratio, company_location, company_size</th>\n",
       "      <td>60907.716107</td>\n",
       "    </tr>\n",
       "    <tr>\n",
       "      <th>ricl, remote_ratio, company_location, company_size</th>\n",
       "      <td>60907.716107</td>\n",
       "    </tr>\n",
       "    <tr>\n",
       "      <th>job_popularity, ricl, remote_ratio, company_location, company_size</th>\n",
       "      <td>60907.716107</td>\n",
       "    </tr>\n",
       "    <tr>\n",
       "      <th>experience_level, job_popularity, ricl, remote_ratio, company_location, company_size</th>\n",
       "      <td>60907.716107</td>\n",
       "    </tr>\n",
       "    <tr>\n",
       "      <th>work_year, experience_level, job_popularity, ricl, remote_ratio, company_location, company_size</th>\n",
       "      <td>60907.716107</td>\n",
       "    </tr>\n",
       "  </tbody>\n",
       "</table>\n",
       "</div>"
      ],
      "text/plain": [
       "                                                            RMSE\n",
       "remote_ratio, company_location, company_size        60907.716107\n",
       "ricl, remote_ratio, company_location, company_size  60907.716107\n",
       "job_popularity, ricl, remote_ratio, company_loc...  60907.716107\n",
       "experience_level, job_popularity, ricl, remote_...  60907.716107\n",
       "work_year, experience_level, job_popularity, ri...  60907.716107"
      ]
     },
     "metadata": {},
     "output_type": "display_data"
    }
   ],
   "source": [
    "lasso = Lasso()\n",
    "compareSFS(lasso)"
   ]
  },
  {
   "cell_type": "markdown",
   "metadata": {},
   "source": [
    "### Regression Tree (RT)"
   ]
  },
  {
   "cell_type": "code",
   "execution_count": 28,
   "metadata": {},
   "outputs": [
    {
     "name": "stdout",
     "output_type": "stream",
     "text": [
      "y\n"
     ]
    },
    {
     "data": {
      "text/html": [
       "<div>\n",
       "<style scoped>\n",
       "    .dataframe tbody tr th:only-of-type {\n",
       "        vertical-align: middle;\n",
       "    }\n",
       "\n",
       "    .dataframe tbody tr th {\n",
       "        vertical-align: top;\n",
       "    }\n",
       "\n",
       "    .dataframe thead th {\n",
       "        text-align: right;\n",
       "    }\n",
       "</style>\n",
       "<table border=\"1\" class=\"dataframe\">\n",
       "  <thead>\n",
       "    <tr style=\"text-align: right;\">\n",
       "      <th></th>\n",
       "      <th>RMSE</th>\n",
       "    </tr>\n",
       "  </thead>\n",
       "  <tbody>\n",
       "    <tr>\n",
       "      <th>experience_level, ricl, company_location</th>\n",
       "      <td>43369.062365</td>\n",
       "    </tr>\n",
       "    <tr>\n",
       "      <th>experience_level, ricl, remote_ratio, company_location</th>\n",
       "      <td>45303.186478</td>\n",
       "    </tr>\n",
       "    <tr>\n",
       "      <th>experience_level, ricl, remote_ratio, company_location, company_size</th>\n",
       "      <td>47339.760736</td>\n",
       "    </tr>\n",
       "    <tr>\n",
       "      <th>work_year, experience_level, ricl, remote_ratio, company_location, company_size</th>\n",
       "      <td>47798.084763</td>\n",
       "    </tr>\n",
       "    <tr>\n",
       "      <th>work_year, experience_level, job_popularity, ricl, remote_ratio, company_location, company_size</th>\n",
       "      <td>50133.414504</td>\n",
       "    </tr>\n",
       "  </tbody>\n",
       "</table>\n",
       "</div>"
      ],
      "text/plain": [
       "                                                            RMSE\n",
       "experience_level, ricl, company_location            43369.062365\n",
       "experience_level, ricl, remote_ratio, company_l...  45303.186478\n",
       "experience_level, ricl, remote_ratio, company_l...  47339.760736\n",
       "work_year, experience_level, ricl, remote_ratio...  47798.084763\n",
       "work_year, experience_level, job_popularity, ri...  50133.414504"
      ]
     },
     "metadata": {},
     "output_type": "display_data"
    },
    {
     "name": "stdout",
     "output_type": "stream",
     "text": [
      "y logged\n"
     ]
    },
    {
     "data": {
      "text/html": [
       "<div>\n",
       "<style scoped>\n",
       "    .dataframe tbody tr th:only-of-type {\n",
       "        vertical-align: middle;\n",
       "    }\n",
       "\n",
       "    .dataframe tbody tr th {\n",
       "        vertical-align: top;\n",
       "    }\n",
       "\n",
       "    .dataframe thead th {\n",
       "        text-align: right;\n",
       "    }\n",
       "</style>\n",
       "<table border=\"1\" class=\"dataframe\">\n",
       "  <thead>\n",
       "    <tr style=\"text-align: right;\">\n",
       "      <th></th>\n",
       "      <th>RMSE</th>\n",
       "    </tr>\n",
       "  </thead>\n",
       "  <tbody>\n",
       "    <tr>\n",
       "      <th>work_year, job_popularity, company_location</th>\n",
       "      <td>49974.824208</td>\n",
       "    </tr>\n",
       "    <tr>\n",
       "      <th>experience_level, job_popularity, ricl, company_location</th>\n",
       "      <td>49758.836971</td>\n",
       "    </tr>\n",
       "    <tr>\n",
       "      <th>experience_level, job_popularity, ricl, remote_ratio, company_location</th>\n",
       "      <td>47446.795951</td>\n",
       "    </tr>\n",
       "    <tr>\n",
       "      <th>work_year, experience_level, job_popularity, ricl, remote_ratio, company_location</th>\n",
       "      <td>48942.232223</td>\n",
       "    </tr>\n",
       "    <tr>\n",
       "      <th>work_year, experience_level, job_popularity, ricl, remote_ratio, company_location, company_size</th>\n",
       "      <td>45086.880987</td>\n",
       "    </tr>\n",
       "  </tbody>\n",
       "</table>\n",
       "</div>"
      ],
      "text/plain": [
       "                                                            RMSE\n",
       "work_year, job_popularity, company_location         49974.824208\n",
       "experience_level, job_popularity, ricl, company...  49758.836971\n",
       "experience_level, job_popularity, ricl, remote_...  47446.795951\n",
       "work_year, experience_level, job_popularity, ri...  48942.232223\n",
       "work_year, experience_level, job_popularity, ri...  45086.880987"
      ]
     },
     "metadata": {},
     "output_type": "display_data"
    }
   ],
   "source": [
    "rt = DTR()\n",
    "compareSFS(rt)"
   ]
  },
  {
   "cell_type": "markdown",
   "metadata": {},
   "source": [
    "### Gradient Boosting Regression (GBR)"
   ]
  },
  {
   "cell_type": "code",
   "execution_count": 29,
   "metadata": {},
   "outputs": [
    {
     "name": "stdout",
     "output_type": "stream",
     "text": [
      "y\n"
     ]
    },
    {
     "data": {
      "text/html": [
       "<div>\n",
       "<style scoped>\n",
       "    .dataframe tbody tr th:only-of-type {\n",
       "        vertical-align: middle;\n",
       "    }\n",
       "\n",
       "    .dataframe tbody tr th {\n",
       "        vertical-align: top;\n",
       "    }\n",
       "\n",
       "    .dataframe thead th {\n",
       "        text-align: right;\n",
       "    }\n",
       "</style>\n",
       "<table border=\"1\" class=\"dataframe\">\n",
       "  <thead>\n",
       "    <tr style=\"text-align: right;\">\n",
       "      <th></th>\n",
       "      <th>RMSE</th>\n",
       "    </tr>\n",
       "  </thead>\n",
       "  <tbody>\n",
       "    <tr>\n",
       "      <th>experience_level, job_popularity, company_location</th>\n",
       "      <td>45159.302209</td>\n",
       "    </tr>\n",
       "    <tr>\n",
       "      <th>experience_level, job_popularity, ricl, company_location</th>\n",
       "      <td>42179.380084</td>\n",
       "    </tr>\n",
       "    <tr>\n",
       "      <th>work_year, experience_level, job_popularity, ricl, company_location</th>\n",
       "      <td>41510.961113</td>\n",
       "    </tr>\n",
       "    <tr>\n",
       "      <th>work_year, experience_level, job_popularity, ricl, company_location, company_size</th>\n",
       "      <td>40137.057236</td>\n",
       "    </tr>\n",
       "    <tr>\n",
       "      <th>work_year, experience_level, job_popularity, ricl, remote_ratio, company_location, company_size</th>\n",
       "      <td>40117.742579</td>\n",
       "    </tr>\n",
       "  </tbody>\n",
       "</table>\n",
       "</div>"
      ],
      "text/plain": [
       "                                                            RMSE\n",
       "experience_level, job_popularity, company_location  45159.302209\n",
       "experience_level, job_popularity, ricl, company...  42179.380084\n",
       "work_year, experience_level, job_popularity, ri...  41510.961113\n",
       "work_year, experience_level, job_popularity, ri...  40137.057236\n",
       "work_year, experience_level, job_popularity, ri...  40117.742579"
      ]
     },
     "metadata": {},
     "output_type": "display_data"
    },
    {
     "name": "stdout",
     "output_type": "stream",
     "text": [
      "y logged\n"
     ]
    },
    {
     "data": {
      "text/html": [
       "<div>\n",
       "<style scoped>\n",
       "    .dataframe tbody tr th:only-of-type {\n",
       "        vertical-align: middle;\n",
       "    }\n",
       "\n",
       "    .dataframe tbody tr th {\n",
       "        vertical-align: top;\n",
       "    }\n",
       "\n",
       "    .dataframe thead th {\n",
       "        text-align: right;\n",
       "    }\n",
       "</style>\n",
       "<table border=\"1\" class=\"dataframe\">\n",
       "  <thead>\n",
       "    <tr style=\"text-align: right;\">\n",
       "      <th></th>\n",
       "      <th>RMSE</th>\n",
       "    </tr>\n",
       "  </thead>\n",
       "  <tbody>\n",
       "    <tr>\n",
       "      <th>experience_level, job_popularity, company_location</th>\n",
       "      <td>45003.020954</td>\n",
       "    </tr>\n",
       "    <tr>\n",
       "      <th>experience_level, job_popularity, ricl, company_location</th>\n",
       "      <td>42007.846080</td>\n",
       "    </tr>\n",
       "    <tr>\n",
       "      <th>work_year, experience_level, job_popularity, ricl, company_location</th>\n",
       "      <td>42324.137049</td>\n",
       "    </tr>\n",
       "    <tr>\n",
       "      <th>work_year, experience_level, job_popularity, ricl, company_location, company_size</th>\n",
       "      <td>41148.833881</td>\n",
       "    </tr>\n",
       "    <tr>\n",
       "      <th>work_year, experience_level, job_popularity, ricl, remote_ratio, company_location, company_size</th>\n",
       "      <td>40662.190734</td>\n",
       "    </tr>\n",
       "  </tbody>\n",
       "</table>\n",
       "</div>"
      ],
      "text/plain": [
       "                                                            RMSE\n",
       "experience_level, job_popularity, company_location  45003.020954\n",
       "experience_level, job_popularity, ricl, company...  42007.846080\n",
       "work_year, experience_level, job_popularity, ri...  42324.137049\n",
       "work_year, experience_level, job_popularity, ri...  41148.833881\n",
       "work_year, experience_level, job_popularity, ri...  40662.190734"
      ]
     },
     "metadata": {},
     "output_type": "display_data"
    }
   ],
   "source": [
    "gbr = GBR(random_state=RANDOM_STATE)\n",
    "compareSFS(gbr)"
   ]
  },
  {
   "cell_type": "markdown",
   "metadata": {},
   "source": [
    "### Support Vector Regression (SVR)"
   ]
  },
  {
   "cell_type": "code",
   "execution_count": 30,
   "metadata": {},
   "outputs": [
    {
     "name": "stdout",
     "output_type": "stream",
     "text": [
      "y\n"
     ]
    },
    {
     "data": {
      "text/html": [
       "<div>\n",
       "<style scoped>\n",
       "    .dataframe tbody tr th:only-of-type {\n",
       "        vertical-align: middle;\n",
       "    }\n",
       "\n",
       "    .dataframe tbody tr th {\n",
       "        vertical-align: top;\n",
       "    }\n",
       "\n",
       "    .dataframe thead th {\n",
       "        text-align: right;\n",
       "    }\n",
       "</style>\n",
       "<table border=\"1\" class=\"dataframe\">\n",
       "  <thead>\n",
       "    <tr style=\"text-align: right;\">\n",
       "      <th></th>\n",
       "      <th>RMSE</th>\n",
       "    </tr>\n",
       "  </thead>\n",
       "  <tbody>\n",
       "    <tr>\n",
       "      <th>experience_level, ricl, company_location</th>\n",
       "      <td>58362.998955</td>\n",
       "    </tr>\n",
       "    <tr>\n",
       "      <th>experience_level, ricl, company_location, company_size</th>\n",
       "      <td>58372.116942</td>\n",
       "    </tr>\n",
       "    <tr>\n",
       "      <th>experience_level, ricl, remote_ratio, company_location, company_size</th>\n",
       "      <td>58379.044224</td>\n",
       "    </tr>\n",
       "    <tr>\n",
       "      <th>experience_level, job_popularity, ricl, remote_ratio, company_location, company_size</th>\n",
       "      <td>58384.652798</td>\n",
       "    </tr>\n",
       "    <tr>\n",
       "      <th>work_year, experience_level, job_popularity, ricl, remote_ratio, company_location, company_size</th>\n",
       "      <td>58402.624842</td>\n",
       "    </tr>\n",
       "  </tbody>\n",
       "</table>\n",
       "</div>"
      ],
      "text/plain": [
       "                                                            RMSE\n",
       "experience_level, ricl, company_location            58362.998955\n",
       "experience_level, ricl, company_location, compa...  58372.116942\n",
       "experience_level, ricl, remote_ratio, company_l...  58379.044224\n",
       "experience_level, job_popularity, ricl, remote_...  58384.652798\n",
       "work_year, experience_level, job_popularity, ri...  58402.624842"
      ]
     },
     "metadata": {},
     "output_type": "display_data"
    },
    {
     "name": "stdout",
     "output_type": "stream",
     "text": [
      "y logged\n"
     ]
    },
    {
     "data": {
      "text/html": [
       "<div>\n",
       "<style scoped>\n",
       "    .dataframe tbody tr th:only-of-type {\n",
       "        vertical-align: middle;\n",
       "    }\n",
       "\n",
       "    .dataframe tbody tr th {\n",
       "        vertical-align: top;\n",
       "    }\n",
       "\n",
       "    .dataframe thead th {\n",
       "        text-align: right;\n",
       "    }\n",
       "</style>\n",
       "<table border=\"1\" class=\"dataframe\">\n",
       "  <thead>\n",
       "    <tr style=\"text-align: right;\">\n",
       "      <th></th>\n",
       "      <th>RMSE</th>\n",
       "    </tr>\n",
       "  </thead>\n",
       "  <tbody>\n",
       "    <tr>\n",
       "      <th>experience_level, job_popularity, company_location</th>\n",
       "      <td>44906.015061</td>\n",
       "    </tr>\n",
       "    <tr>\n",
       "      <th>experience_level, job_popularity, company_location, company_size</th>\n",
       "      <td>41951.907254</td>\n",
       "    </tr>\n",
       "    <tr>\n",
       "      <th>experience_level, job_popularity, ricl, company_location, company_size</th>\n",
       "      <td>40467.630102</td>\n",
       "    </tr>\n",
       "    <tr>\n",
       "      <th>experience_level, job_popularity, ricl, remote_ratio, company_location, company_size</th>\n",
       "      <td>40292.601548</td>\n",
       "    </tr>\n",
       "    <tr>\n",
       "      <th>work_year, experience_level, job_popularity, ricl, remote_ratio, company_location, company_size</th>\n",
       "      <td>58367.291076</td>\n",
       "    </tr>\n",
       "  </tbody>\n",
       "</table>\n",
       "</div>"
      ],
      "text/plain": [
       "                                                            RMSE\n",
       "experience_level, job_popularity, company_location  44906.015061\n",
       "experience_level, job_popularity, company_locat...  41951.907254\n",
       "experience_level, job_popularity, ricl, company...  40467.630102\n",
       "experience_level, job_popularity, ricl, remote_...  40292.601548\n",
       "work_year, experience_level, job_popularity, ri...  58367.291076"
      ]
     },
     "metadata": {},
     "output_type": "display_data"
    }
   ],
   "source": [
    "svr = SVR()\n",
    "compareSFS(svr)"
   ]
  },
  {
   "cell_type": "markdown",
   "metadata": {},
   "source": [
    "## Shortlisting\n",
    "\n",
    "The models that perform best are:\n",
    "\n",
    "| No. | Model     | Features       | y logged | RMSE  |\n",
    "| --- | --------- | -------------- | -------- | ----- |\n",
    "| 1   | **GBR**   | All            | No       | 40118 |\n",
    "| 2   | **SVR**   | No `work_year` | Yes      | 40293 |\n",
    "| 3   | **LR**    | All            | Yes      | 40608 |"
   ]
  },
  {
   "cell_type": "markdown",
   "metadata": {},
   "source": [
    "## Hyperparameter Tuning"
   ]
  },
  {
   "cell_type": "code",
   "execution_count": 31,
   "metadata": {},
   "outputs": [],
   "source": [
    "def tuneHyper(pg, Xs, ys, Model, tt=lambda y: y, **model_kwargs):\n",
    "  gscv = GSCV(Model(**model_kwargs), pg, scoring=MSEScorer)\n",
    "  gscv.fit(Xs[0], ys[0])\n",
    "  print(f\"Best Params: {gscv.best_params_}\")\n",
    "\n",
    "  model_tuned = Model(**gscv.best_params_, **model_kwargs)\n",
    "  model_tuned.fit(Xs[0], ys[0])\n",
    "  print(f\"RMSE: {RMSE(tt(ys[1]), tt(model_tuned.predict(Xs[1])))}\")\n",
    "  return model_tuned"
   ]
  },
  {
   "cell_type": "markdown",
   "metadata": {},
   "source": [
    "### GBR"
   ]
  },
  {
   "cell_type": "code",
   "execution_count": 38,
   "metadata": {},
   "outputs": [
    {
     "name": "stdout",
     "output_type": "stream",
     "text": [
      "Best Params: {'learning_rate': 0.1, 'max_leaf_nodes': 4, 'n_estimators': 60, 'tol': 0.1}\n",
      "RMSE: 40415.863686479504\n"
     ]
    }
   ],
   "source": [
    "gbr_pg = {\n",
    "  \"learning_rate\": [.1, .01],\n",
    "  \"n_estimators\": np.arange(30, 70, 10),\n",
    "  \"max_leaf_nodes\": np.arange(4, 8, 1),\n",
    "  \"tol\": np.arange(.1, .3, .05)\n",
    "}\n",
    "gbr_tuned = tuneHyper(gbr_pg, Xs, ys, GBR, random_state=RANDOM_STATE)"
   ]
  },
  {
   "cell_type": "markdown",
   "metadata": {},
   "source": [
    "### SVR"
   ]
  },
  {
   "cell_type": "code",
   "execution_count": 39,
   "metadata": {},
   "outputs": [
    {
     "name": "stdout",
     "output_type": "stream",
     "text": [
      "Best Params: {'C': 0.7500000000000001, 'epsilon': 0.2, 'tol': 0.14500000000000002}\n",
      "RMSE: 39685.80307943052\n"
     ]
    }
   ],
   "source": [
    "svr_pg = {\n",
    "  \"tol\": np.arange(.12, .15, .005),\n",
    "  \"C\": np.arange(.6, .9, .05),\n",
    "  \"epsilon\": np.arange(.1, .5, .1)\n",
    "}\n",
    "svrX = lambda X: X.drop(columns=\"work_year\")\n",
    "svr_Xs = [svrX(X) for X in Xs]\n",
    "svr_tuned = tuneHyper(svr_pg, svr_Xs, y_logs, SVR, e)"
   ]
  },
  {
   "cell_type": "markdown",
   "metadata": {},
   "source": [
    "### LR\n",
    "\n",
    "LR has no parameters that can be optimized"
   ]
  },
  {
   "cell_type": "markdown",
   "metadata": {},
   "source": [
    "## The best performing model is:\n",
    "\n",
    "**SVR** w/\n",
    "- Features: No `work_year`\n",
    "- y logged\n",
    "- Params:\n",
    "{\n",
    " 'C': 0.75,\n",
    " 'epsilon': 0.2,\n",
    " 'tol': 0.145\n",
    "}\n",
    "- *RMSE: 39686*"
   ]
  },
  {
   "cell_type": "markdown",
   "metadata": {},
   "source": [
    "# Exports"
   ]
  },
  {
   "cell_type": "code",
   "execution_count": 34,
   "metadata": {},
   "outputs": [],
   "source": [
    "from joblib import dump"
   ]
  },
  {
   "cell_type": "code",
   "execution_count": 35,
   "metadata": {},
   "outputs": [
    {
     "data": {
      "text/plain": [
       "['../model.pkl']"
      ]
     },
     "execution_count": 35,
     "metadata": {},
     "output_type": "execute_result"
    }
   ],
   "source": [
    "# Retrain w/ all available data\n",
    "svr_tuned.fit(svrX(X), y.agg(np.log))\n",
    "dump(svr_tuned, \"../model.pkl\")"
   ]
  }
 ],
 "metadata": {
  "kernelspec": {
   "display_name": "Python 3.9.12 ('ai')",
   "language": "python",
   "name": "python3"
  },
  "language_info": {
   "codemirror_mode": {
    "name": "ipython",
    "version": 3
   },
   "file_extension": ".py",
   "mimetype": "text/x-python",
   "name": "python",
   "nbconvert_exporter": "python",
   "pygments_lexer": "ipython3",
   "version": "3.9.12"
  },
  "orig_nbformat": 4,
  "vscode": {
   "interpreter": {
    "hash": "cc4b3de7b0b7ce6b1c2c518757e9e54c8dd73823412aeeed09e6b284ef831903"
   }
  }
 },
 "nbformat": 4,
 "nbformat_minor": 2
}
